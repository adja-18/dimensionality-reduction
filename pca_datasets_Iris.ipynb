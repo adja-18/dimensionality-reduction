{
 "cells": [
  {
   "cell_type": "markdown",
   "metadata": {},
   "source": [
    "# Principal Componente (PCA)\n",
    "Análise dos Principais Componentes"
   ]
  },
  {
   "cell_type": "code",
   "execution_count": 19,
   "metadata": {},
   "outputs": [],
   "source": [
    "import pandas as pd \n",
    "import numpy as np \n",
    "import matplotlib.pyplot as plt \n",
    "%matplotlib inline \n"
   ]
  },
  {
   "cell_type": "code",
   "execution_count": 2,
   "metadata": {},
   "outputs": [],
   "source": [
    "#Decompõe os dados \n",
    "from sklearn.decomposition import PCA\n",
    "#escalar dados para trabalhar com  PCA\n",
    "from sklearn.preprocessing import StandardScaler\n",
    "#importar datasets embutidos no sklearn\n",
    "from sklearn import datasets\n"
   ]
  },
  {
   "cell_type": "code",
   "execution_count": 3,
   "metadata": {},
   "outputs": [],
   "source": [
    "# usar datasets Iris (tipos de plantas)\n",
    "iris = datasets.load_iris()"
   ]
  },
  {
   "cell_type": "code",
   "execution_count": 4,
   "metadata": {},
   "outputs": [
    {
     "data": {
      "text/plain": [
       "sklearn.utils._bunch.Bunch"
      ]
     },
     "execution_count": 4,
     "metadata": {},
     "output_type": "execute_result"
    }
   ],
   "source": [
    "#tipo \n",
    "type(iris)"
   ]
  },
  {
   "cell_type": "code",
   "execution_count": 5,
   "metadata": {},
   "outputs": [
    {
     "name": "stdout",
     "output_type": "stream",
     "text": [
      ".. _iris_dataset:\n",
      "\n",
      "Iris plants dataset\n",
      "--------------------\n",
      "\n",
      "**Data Set Characteristics:**\n",
      "\n",
      ":Number of Instances: 150 (50 in each of three classes)\n",
      ":Number of Attributes: 4 numeric, predictive attributes and the class\n",
      ":Attribute Information:\n",
      "    - sepal length in cm\n",
      "    - sepal width in cm\n",
      "    - petal length in cm\n",
      "    - petal width in cm\n",
      "    - class:\n",
      "            - Iris-Setosa\n",
      "            - Iris-Versicolour\n",
      "            - Iris-Virginica\n",
      "\n",
      ":Summary Statistics:\n",
      "\n",
      "============== ==== ==== ======= ===== ====================\n",
      "                Min  Max   Mean    SD   Class Correlation\n",
      "============== ==== ==== ======= ===== ====================\n",
      "sepal length:   4.3  7.9   5.84   0.83    0.7826\n",
      "sepal width:    2.0  4.4   3.05   0.43   -0.4194\n",
      "petal length:   1.0  6.9   3.76   1.76    0.9490  (high!)\n",
      "petal width:    0.1  2.5   1.20   0.76    0.9565  (high!)\n",
      "============== ==== ==== ======= ===== ====================\n",
      "\n",
      ":Missing Attribute Values: None\n",
      ":Class Distribution: 33.3% for each of 3 classes.\n",
      ":Creator: R.A. Fisher\n",
      ":Donor: Michael Marshall (MARSHALL%PLU@io.arc.nasa.gov)\n",
      ":Date: July, 1988\n",
      "\n",
      "The famous Iris database, first used by Sir R.A. Fisher. The dataset is taken\n",
      "from Fisher's paper. Note that it's the same as in R, but not as in the UCI\n",
      "Machine Learning Repository, which has two wrong data points.\n",
      "\n",
      "This is perhaps the best known database to be found in the\n",
      "pattern recognition literature.  Fisher's paper is a classic in the field and\n",
      "is referenced frequently to this day.  (See Duda & Hart, for example.)  The\n",
      "data set contains 3 classes of 50 instances each, where each class refers to a\n",
      "type of iris plant.  One class is linearly separable from the other 2; the\n",
      "latter are NOT linearly separable from each other.\n",
      "\n",
      "|details-start|\n",
      "**References**\n",
      "|details-split|\n",
      "\n",
      "- Fisher, R.A. \"The use of multiple measurements in taxonomic problems\"\n",
      "  Annual Eugenics, 7, Part II, 179-188 (1936); also in \"Contributions to\n",
      "  Mathematical Statistics\" (John Wiley, NY, 1950).\n",
      "- Duda, R.O., & Hart, P.E. (1973) Pattern Classification and Scene Analysis.\n",
      "  (Q327.D83) John Wiley & Sons.  ISBN 0-471-22361-1.  See page 218.\n",
      "- Dasarathy, B.V. (1980) \"Nosing Around the Neighborhood: A New System\n",
      "  Structure and Classification Rule for Recognition in Partially Exposed\n",
      "  Environments\".  IEEE Transactions on Pattern Analysis and Machine\n",
      "  Intelligence, Vol. PAMI-2, No. 1, 67-71.\n",
      "- Gates, G.W. (1972) \"The Reduced Nearest Neighbor Rule\".  IEEE Transactions\n",
      "  on Information Theory, May 1972, 431-433.\n",
      "- See also: 1988 MLC Proceedings, 54-64.  Cheeseman et al\"s AUTOCLASS II\n",
      "  conceptual clustering system finds 3 classes in the data.\n",
      "- Many, many more ...\n",
      "\n",
      "|details-end|\n",
      "\n"
     ]
    }
   ],
   "source": [
    "print(iris['DESCR'])"
   ]
  },
  {
   "cell_type": "code",
   "execution_count": 6,
   "metadata": {},
   "outputs": [],
   "source": [
    "#definir variaveis\n",
    "x =iris['data']\n",
    "#definir o alvo\n",
    "y = iris['target']"
   ]
  },
  {
   "cell_type": "code",
   "execution_count": 7,
   "metadata": {},
   "outputs": [
    {
     "data": {
      "text/plain": [
       "((150, 4), (150,))"
      ]
     },
     "execution_count": 7,
     "metadata": {},
     "output_type": "execute_result"
    }
   ],
   "source": [
    "x.shape,y.shape"
   ]
  },
  {
   "cell_type": "code",
   "execution_count": 8,
   "metadata": {},
   "outputs": [],
   "source": [
    "#normalizar colocar os valoresem um padrão\n",
    "x = StandardScaler().fit_transform(x)"
   ]
  },
  {
   "cell_type": "code",
   "execution_count": 9,
   "metadata": {},
   "outputs": [
    {
     "data": {
      "text/plain": [
       "['sepal length (cm)',\n",
       " 'sepal width (cm)',\n",
       " 'petal length (cm)',\n",
       " 'petal width (cm)']"
      ]
     },
     "execution_count": 9,
     "metadata": {},
     "output_type": "execute_result"
    }
   ],
   "source": [
    "iris['feature_names']"
   ]
  },
  {
   "cell_type": "code",
   "execution_count": 10,
   "metadata": {},
   "outputs": [],
   "source": [
    "# Criar DataFrame com nomes de coluna especificados\n",
    "columns = ['sepal length (cm)', 'sepal width (cm)', 'petal length (cm)', 'petal width (cm)']\n",
    " # Substitua com os nomes das suas features\n",
    "df = pd.DataFrame(data=x, columns=columns)"
   ]
  },
  {
   "cell_type": "code",
   "execution_count": 11,
   "metadata": {},
   "outputs": [
    {
     "data": {
      "text/html": [
       "<div>\n",
       "<style scoped>\n",
       "    .dataframe tbody tr th:only-of-type {\n",
       "        vertical-align: middle;\n",
       "    }\n",
       "\n",
       "    .dataframe tbody tr th {\n",
       "        vertical-align: top;\n",
       "    }\n",
       "\n",
       "    .dataframe thead th {\n",
       "        text-align: right;\n",
       "    }\n",
       "</style>\n",
       "<table border=\"1\" class=\"dataframe\">\n",
       "  <thead>\n",
       "    <tr style=\"text-align: right;\">\n",
       "      <th></th>\n",
       "      <th>sepal length (cm)</th>\n",
       "      <th>sepal width (cm)</th>\n",
       "      <th>petal length (cm)</th>\n",
       "      <th>petal width (cm)</th>\n",
       "    </tr>\n",
       "  </thead>\n",
       "  <tbody>\n",
       "    <tr>\n",
       "      <th>0</th>\n",
       "      <td>-0.900681</td>\n",
       "      <td>1.019004</td>\n",
       "      <td>-1.340227</td>\n",
       "      <td>-1.315444</td>\n",
       "    </tr>\n",
       "    <tr>\n",
       "      <th>1</th>\n",
       "      <td>-1.143017</td>\n",
       "      <td>-0.131979</td>\n",
       "      <td>-1.340227</td>\n",
       "      <td>-1.315444</td>\n",
       "    </tr>\n",
       "    <tr>\n",
       "      <th>2</th>\n",
       "      <td>-1.385353</td>\n",
       "      <td>0.328414</td>\n",
       "      <td>-1.397064</td>\n",
       "      <td>-1.315444</td>\n",
       "    </tr>\n",
       "    <tr>\n",
       "      <th>3</th>\n",
       "      <td>-1.506521</td>\n",
       "      <td>0.098217</td>\n",
       "      <td>-1.283389</td>\n",
       "      <td>-1.315444</td>\n",
       "    </tr>\n",
       "    <tr>\n",
       "      <th>4</th>\n",
       "      <td>-1.021849</td>\n",
       "      <td>1.249201</td>\n",
       "      <td>-1.340227</td>\n",
       "      <td>-1.315444</td>\n",
       "    </tr>\n",
       "    <tr>\n",
       "      <th>...</th>\n",
       "      <td>...</td>\n",
       "      <td>...</td>\n",
       "      <td>...</td>\n",
       "      <td>...</td>\n",
       "    </tr>\n",
       "    <tr>\n",
       "      <th>145</th>\n",
       "      <td>1.038005</td>\n",
       "      <td>-0.131979</td>\n",
       "      <td>0.819596</td>\n",
       "      <td>1.448832</td>\n",
       "    </tr>\n",
       "    <tr>\n",
       "      <th>146</th>\n",
       "      <td>0.553333</td>\n",
       "      <td>-1.282963</td>\n",
       "      <td>0.705921</td>\n",
       "      <td>0.922303</td>\n",
       "    </tr>\n",
       "    <tr>\n",
       "      <th>147</th>\n",
       "      <td>0.795669</td>\n",
       "      <td>-0.131979</td>\n",
       "      <td>0.819596</td>\n",
       "      <td>1.053935</td>\n",
       "    </tr>\n",
       "    <tr>\n",
       "      <th>148</th>\n",
       "      <td>0.432165</td>\n",
       "      <td>0.788808</td>\n",
       "      <td>0.933271</td>\n",
       "      <td>1.448832</td>\n",
       "    </tr>\n",
       "    <tr>\n",
       "      <th>149</th>\n",
       "      <td>0.068662</td>\n",
       "      <td>-0.131979</td>\n",
       "      <td>0.762758</td>\n",
       "      <td>0.790671</td>\n",
       "    </tr>\n",
       "  </tbody>\n",
       "</table>\n",
       "<p>150 rows × 4 columns</p>\n",
       "</div>"
      ],
      "text/plain": [
       "     sepal length (cm)  sepal width (cm)  petal length (cm)  petal width (cm)\n",
       "0            -0.900681          1.019004          -1.340227         -1.315444\n",
       "1            -1.143017         -0.131979          -1.340227         -1.315444\n",
       "2            -1.385353          0.328414          -1.397064         -1.315444\n",
       "3            -1.506521          0.098217          -1.283389         -1.315444\n",
       "4            -1.021849          1.249201          -1.340227         -1.315444\n",
       "..                 ...               ...                ...               ...\n",
       "145           1.038005         -0.131979           0.819596          1.448832\n",
       "146           0.553333         -1.282963           0.705921          0.922303\n",
       "147           0.795669         -0.131979           0.819596          1.053935\n",
       "148           0.432165          0.788808           0.933271          1.448832\n",
       "149           0.068662         -0.131979           0.762758          0.790671\n",
       "\n",
       "[150 rows x 4 columns]"
      ]
     },
     "execution_count": 11,
     "metadata": {},
     "output_type": "execute_result"
    }
   ],
   "source": [
    "df"
   ]
  },
  {
   "cell_type": "code",
   "execution_count": 12,
   "metadata": {},
   "outputs": [],
   "source": [
    "#implementar o PCA\n",
    "#diminuir para duas dimensões\n",
    "pca = PCA(n_components=2) "
   ]
  },
  {
   "cell_type": "code",
   "execution_count": 13,
   "metadata": {},
   "outputs": [],
   "source": [
    "# adequar o x para duas dimensões\n",
    "pc = pca.fit_transform(x)"
   ]
  },
  {
   "cell_type": "code",
   "execution_count": 14,
   "metadata": {},
   "outputs": [
    {
     "data": {
      "text/plain": [
       "(150, 2)"
      ]
     },
     "execution_count": 14,
     "metadata": {},
     "output_type": "execute_result"
    }
   ],
   "source": [
    "#Duas dimensões (colunas) que carregam as informações das 4 (quatro) colunas \n",
    "pc.shape"
   ]
  },
  {
   "cell_type": "code",
   "execution_count": 15,
   "metadata": {},
   "outputs": [
    {
     "data": {
      "text/plain": [
       "array([-2.26470281, -2.08096115, -2.36422905, -2.29938422, -2.38984217,\n",
       "       -2.07563095, -2.44402884, -2.23284716, -2.33464048, -2.18432817,\n",
       "       -2.1663101 , -2.32613087, -2.2184509 , -2.6331007 , -2.1987406 ,\n",
       "       -2.26221453, -2.2075877 , -2.19034951, -1.898572  , -2.34336905,\n",
       "       -1.914323  , -2.20701284, -2.7743447 , -1.81866953, -2.22716331,\n",
       "       -1.95184633, -2.05115137, -2.16857717, -2.13956345, -2.26526149,\n",
       "       -2.14012214, -1.83159477, -2.61494794, -2.44617739, -2.10997488,\n",
       "       -2.2078089 , -2.04514621, -2.52733191, -2.42963258, -2.16971071,\n",
       "       -2.28647514, -1.85812246, -2.5536384 , -1.96444768, -2.13705901,\n",
       "       -2.0697443 , -2.38473317, -2.39437631, -2.22944655, -2.20383344,\n",
       "        1.10178118,  0.73133743,  1.24097932,  0.40748306,  1.0754747 ,\n",
       "        0.38868734,  0.74652974, -0.48732274,  0.92790164,  0.01142619,\n",
       "       -0.11019628,  0.44069345,  0.56210831,  0.71956189, -0.0333547 ,\n",
       "        0.87540719,  0.35025167,  0.15881005,  1.22509363,  0.1649179 ,\n",
       "        0.73768265,  0.47628719,  1.2341781 ,  0.6328582 ,  0.70266118,\n",
       "        0.87427365,  1.25650912,  1.35840512,  0.66480037, -0.04025861,\n",
       "        0.13079518,  0.02345269,  0.24153827,  1.06109461,  0.22397877,\n",
       "        0.42913912,  1.04872805,  1.04453138,  0.06958832,  0.28347724,\n",
       "        0.27907778,  0.62456979,  0.33653037, -0.36218338,  0.28858624,\n",
       "        0.09136066,  0.22771687,  0.57638829, -0.44766702,  0.25673059,\n",
       "        1.84456887,  1.15788161,  2.20526679,  1.44015066,  1.86781222,\n",
       "        2.75187334,  0.36701769,  2.30243944,  2.00668647,  2.25977735,\n",
       "        1.36417549,  1.60267867,  1.8839007 ,  1.2601151 ,  1.4676452 ,\n",
       "        1.59007732,  1.47143146,  2.42632899,  3.31069558,  1.26376667,\n",
       "        2.0377163 ,  0.97798073,  2.89765149,  1.33323218,  1.7007339 ,\n",
       "        1.95432671,  1.17510363,  1.02095055,  1.78834992,  1.86364755,\n",
       "        2.43595373,  2.30492772,  1.86270322,  1.11414774,  1.2024733 ,\n",
       "        2.79877045,  1.57625591,  1.3462921 ,  0.92482492,  1.85204505,\n",
       "        2.01481043,  1.90178409,  1.15788161,  2.04055823,  1.9981471 ,\n",
       "        1.87050329,  1.56458048,  1.5211705 ,  1.37278779,  0.96065603])"
      ]
     },
     "execution_count": 15,
     "metadata": {},
     "output_type": "execute_result"
    }
   ],
   "source": [
    "#visualizar todas as linhas da primeira coluna\n",
    "pc[:,0]"
   ]
  },
  {
   "cell_type": "code",
   "execution_count": 16,
   "metadata": {},
   "outputs": [
    {
     "data": {
      "text/plain": [
       "array([ 0.4800266 , -0.67413356, -0.34190802, -0.59739451,  0.64683538,\n",
       "        1.48917752,  0.0476442 ,  0.22314807, -1.11532768, -0.46901356,\n",
       "        1.04369065,  0.13307834, -0.72867617, -0.96150673,  1.86005711,\n",
       "        2.68628449,  1.48360936,  0.48883832,  1.40501879,  1.12784938,\n",
       "        0.40885571,  0.92412143,  0.45834367,  0.08555853,  0.13725446,\n",
       "       -0.62561859,  0.24216355,  0.52714953,  0.31321781, -0.3377319 ,\n",
       "       -0.50454069,  0.42369507,  1.79357586,  2.15072788, -0.46020184,\n",
       "       -0.2061074 ,  0.66155811,  0.59229277, -0.90418004,  0.26887896,\n",
       "        0.44171539, -2.33741516, -0.47910069,  0.47232667,  1.14222926,\n",
       "       -0.71105273,  1.1204297 , -0.38624687,  0.99795976,  0.00921636,\n",
       "        0.86297242,  0.59461473,  0.61629765, -1.75440399, -0.20842105,\n",
       "       -0.59328364,  0.77301931, -1.85242909,  0.03222608, -1.03401828,\n",
       "       -2.65407282, -0.06329519, -1.76472438, -0.18622461, -0.43900321,\n",
       "        0.50906396, -0.19631173, -0.79209574, -1.6222438 , -1.30260923,\n",
       "        0.39657156, -0.41732028, -0.93332573, -0.41638772, -0.06341182,\n",
       "        0.25079339, -0.07725602,  0.33131168, -0.22592785, -1.05871855,\n",
       "       -1.56227183, -1.57247559, -0.77725638, -0.63384324, -0.28777351,\n",
       "        0.84558224,  0.5220518 , -1.38298872, -0.21950333, -1.32932464,\n",
       "       -1.12002852,  0.02492303, -0.98840402, -2.01923787, -0.85573032,\n",
       "       -0.18119213, -0.38492008, -0.1548736 , -1.54379203, -0.5988518 ,\n",
       "        0.87042131, -0.69886986,  0.56201048, -0.04698759,  0.29504482,\n",
       "        0.8004092 , -1.56150289,  0.42006558, -0.71143865,  1.92101038,\n",
       "        0.69275645, -0.42170045,  0.41924965, -1.16226042, -0.44227159,\n",
       "        0.67624481,  0.25562182,  2.55666125,  0.01778095, -1.70674538,\n",
       "        0.91046741, -0.57176432,  0.41364106, -0.48181122,  1.01392187,\n",
       "        1.0077776 , -0.31639447,  0.06434603, -0.18736121,  0.56229073,\n",
       "        0.25928443,  2.62632347, -0.17854949, -0.29292262, -0.81131527,\n",
       "        0.85680333,  1.06858111,  0.42243061,  0.0172231 ,  0.67612817,\n",
       "        0.61388564,  0.68957549, -0.69886986,  0.8675206 ,  1.04916875,\n",
       "        0.38696608, -0.89668681,  0.26906914,  1.01125442, -0.02433167])"
      ]
     },
     "execution_count": 16,
     "metadata": {},
     "output_type": "execute_result"
    }
   ],
   "source": [
    "#visualizar todas as linhas da segunda coluna\n",
    "pc[:,1]"
   ]
  },
  {
   "cell_type": "code",
   "execution_count": 17,
   "metadata": {},
   "outputs": [
    {
     "data": {
      "text/plain": [
       "<matplotlib.collections.PathCollection at 0x7451a92f7130>"
      ]
     },
     "execution_count": 17,
     "metadata": {},
     "output_type": "execute_result"
    },
    {
     "data": {
      "image/png": "[encoded data removed]",
      "text/plain": [
       "<Figure size 640x480 with 1 Axes>"
      ]
     },
     "metadata": {},
     "output_type": "display_data"
    }
   ],
   "source": [
    "plt.scatter(pc[:,0],pc[:,1])"
   ]
  },
  {
   "cell_type": "code",
   "execution_count": 18,
   "metadata": {},
   "outputs": [
    {
     "data": {
      "image/png": "[encoded data removed]",
      "text/plain": [
       "<Figure size 640x480 with 1 Axes>"
      ]
     },
     "metadata": {},
     "output_type": "display_data"
    }
   ],
   "source": [
    "plt.scatter(pc[y==0,0],pc[y==0,1],label='Setosa')\n",
    "plt.scatter(pc[y==1,0],pc[y==1,1],label='Versiclour')\n",
    "plt.scatter(pc[y==2,0],pc[y==2,1],label='Virginica')\n",
    "plt.xlabel('PC1')\n",
    "plt.ylabel('PC2')\n",
    "plt.legend()\n",
    "plt.show()"
   ]
  },
  {
   "cell_type": "code",
   "execution_count": 20,
   "metadata": {},
   "outputs": [
    {
     "data": {
      "text/plain": [
       "array([0.72962445, 0.22850762])"
      ]
     },
     "execution_count": 20,
     "metadata": {},
     "output_type": "execute_result"
    }
   ],
   "source": [
    "pca.explained_variance_ratio_"
   ]
  },
  {
   "cell_type": "code",
   "execution_count": 21,
   "metadata": {},
   "outputs": [
    {
     "data": {
      "text/plain": [
       "0.9581320720000166"
      ]
     },
     "execution_count": 21,
     "metadata": {},
     "output_type": "execute_result"
    }
   ],
   "source": [
    "#resultado da soma mostra que perdemos apenas 4% dos dados quando simplicados\n",
    "sum(pca.explained_variance_ratio_)"
   ]
  }
 ],
 "metadata": {
  "kernelspec": {
   "display_name": "Python 3",
   "language": "python",
   "name": "python3"
  },
  "language_info": {
   "codemirror_mode": {
    "name": "ipython",
    "version": 3
   },
   "file_extension": ".py",
   "mimetype": "text/x-python",
   "name": "python",
   "nbconvert_exporter": "python",
   "pygments_lexer": "ipython3",
   "version": "3.10.13"
  }
 },
 "nbformat": 4,
 "nbformat_minor": 2
}
